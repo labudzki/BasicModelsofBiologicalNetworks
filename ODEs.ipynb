{
  "nbformat": 4,
  "nbformat_minor": 0,
  "metadata": {
    "colab": {
      "provenance": [],
      "include_colab_link": true
    },
    "kernelspec": {
      "name": "python3",
      "display_name": "Python 3"
    },
    "language_info": {
      "name": "python"
    }
  },
  "cells": [
    {
      "cell_type": "markdown",
      "metadata": {
        "id": "view-in-github",
        "colab_type": "text"
      },
      "source": [
        "<a href=\"https://colab.research.google.com/github/labudzki/BasicModelsofBiologicalNetworks/blob/main/ODEs.ipynb\" target=\"_parent\"><img src=\"https://colab.research.google.com/assets/colab-badge.svg\" alt=\"Open In Colab\"/></a>"
      ]
    },
    {
      "cell_type": "code",
      "source": [
        "import numpy as np\n",
        "import scipy as sp\n",
        "import matplotlib.pyplot as plt"
      ],
      "metadata": {
        "id": "87osmygkwSke"
      },
      "execution_count": 4,
      "outputs": []
    },
    {
      "cell_type": "markdown",
      "source": [
        "## Ordinary Differential Equations (ODEs)\n",
        "\n",
        "---\n",
        "\n",
        "Differential equations differ from other equation types by the fact that they include terms related to the **rate of change** of some of its variables.\n",
        "\n",
        "When you see\n",
        "$$\n",
        "\\frac{dx}{dt} = 3x\n",
        "$$\n",
        "\n",
        "you can read it as: the rate of change of $x$, with respect to $t$, is proportional to $x$. To solve this equation is to find a function $x(t)$ where at each point its derivative (rate of change) respects this rule."
      ],
      "metadata": {
        "id": "fkzcZ_QcPdpJ"
      }
    },
    {
      "cell_type": "markdown",
      "source": [
        "## Euler method for solving ODEs\n",
        "\n",
        "The Euler method provides a first order approximation for the solution of an ODE. It is conceptually very simple: we will use the differential equation as a recipe to contruct the function which is its solution. Since we know how the variable changes, we can just start somewhere and keep changing the\n",
        "\n",
        "Here is how it's done for an ODE of the shape\n",
        "$$\n",
        "\\frac{dx}{dt} = f(x,t)\n",
        "$$\n",
        "1. We pick a point to start, e.g. $(x,t)$.\n",
        "2. The differential equation will tell us the rate of change at that point.\n",
        "3. We then apply this rate of change for a small distance $h$.\n",
        "4. We arrive at a new point $t_{\\text{next}} = t+h$ and $x_{\\text{next}} = x+ h\\cdot f(x,t)$.\n",
        "5. Go back to step 2.\n",
        "5. We repeat this for as long as we need.\n",
        "\n",
        "You can see this process visualized below:\n",
        "\n",
        "![Euler_method.svg](data:image/svg+xml;base64,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)"
      ],
      "metadata": {
        "id": "GOtAnBkCPmwR"
      }
    },
    {
      "cell_type": "markdown",
      "source": [
        "## Implementing the Euler method.\n",
        "\n",
        "You will now implement the Euler method in python.\n",
        "We first have to write down the differential equation as a Python function, and we again have a useful convention. If we have an ODE of the form\n",
        "$$\n",
        "\\frac{dx}{dt} = f(x,t)\n",
        "$$\n",
        "we only write the right-hand part of the equation in the python function, and we already know how to write mathematical functions in python, exept here we need to introduce another rule, to make explicit which is the independent variable, since that is only clear on the left-hand part of the equation.\n",
        "\n",
        "The function is then writen as ``f(t,x)``, **with $t$ as the first argument**, to make explicit that $t$ is the independent variable.\n",
        "\n",
        "One example:\n",
        "$$\n",
        "\\frac{dx}{dt} = 3x\n",
        "$$\n",
        "\n",
        "becomes\n",
        "```python\n",
        "def my_ode(t,x):\n",
        "  y = 3x\n",
        "  return y\n",
        "```\n",
        "\n",
        "on which I can input any point $(x,t)$ to get back the rate of change at that point, with respect to $t$.\n",
        "\n",
        "We can now use this to implement Euler's method in python, which you will do next\n",
        "\n",
        "### Exercise\n",
        "\n",
        "1. Implement Euler's method as a python function. The function should take as an input:\n",
        "* The function ``func(t,x)`` that defines the ODE.\n",
        "* The initial values of $x$ and $t$\n",
        "* The step size $h$\n",
        "* The final time $t$ on which to stop the algorithm.\n",
        "\n",
        "And the function should return two vectors, one with the $x$ values, and one with the $t$ values, from which you can plot your results. So it should look something like:\n",
        "\n",
        "```python\n",
        "def euler_method(fun, x_init, t_init, h, t_end):\n",
        "  # your code here\n",
        "  return x_sol, t_sol\n",
        "```\n",
        "\n",
        "2. Write down the following ODE as a python function:\n",
        "\n",
        "$$\n",
        "\\frac{dx}{dt} = x\\left(1-\\frac{x}{10}\\right)\n",
        "$$\n",
        "\n",
        "3. Use your implementation of the Euler method to solve this equation, and plot it's result. Use $x(0)=1$ as your initial point, and $t=10$ as end point. Test different values of $h$.\n",
        "\n",
        "4. The exact solution to this equation is\n",
        "\n",
        "$$\n",
        "x(t) = \\frac{10\\cdot x_0 \\cdot e^t}{(10-x_0) + x_0 \\cdot e^t}\n",
        "$$\n",
        "\n",
        "where $x_0 = x(0)$ is the initial value of $x$. Plot this function, together with your numerical solution above. Again, test different values of $h$. Comment on the results.\n",
        "\n",
        "\n"
      ],
      "metadata": {
        "id": "HFvB4PQzqNVb"
      }
    },
    {
      "cell_type": "code",
      "source": [
        "def euler_method(fun, x_i, t_i, h, t_f):\n",
        "  x_sol = [x_i]\n",
        "  t_sol = [t_i]\n",
        "\n",
        "  num_steps = int((t_f - t_i) / h)\n",
        "  # print(f'num steps: {num_steps}')\n",
        "\n",
        "  for ii in range(num_steps):\n",
        "    t_next = t_i + (ii+1)*h   #Current time\n",
        "    x_next = x_i + h * fun(x_i, t_next)\n",
        "\n",
        "    x_sol.append(x_next)\n",
        "    t_sol.append(t_next)\n",
        "\n",
        "    # print(f\"Iteration {ii+1}: t = {round(t_next,3)}, x = {round(x_next,3)}\")\n",
        "\n",
        "    x_i = x_next\n",
        "    # t_i = t_next\n",
        "\n",
        "  return x_sol, t_sol\n",
        "\n",
        "def my_ode_1(x, t):\n",
        "  y = x * (1 - x/10)\n",
        "  return y\n",
        "\n",
        "def solution_function(x0, t):\n",
        "  num = 10 * x0 * np.exp(t)\n",
        "  denom = (10 - x0) + x0 * np.exp(t)\n",
        "  y = num / denom\n",
        "  return y\n",
        "\n",
        "x_i = 1\n",
        "t_i = 0\n",
        "t_f = 10\n",
        "\n",
        "# # Trying out dif h values\n",
        "# h_vec = [0.1, 1, 2]\n",
        "# for h in h_vec:\n",
        "#   my_sol_x, my_sol_t = euler_method(my_ode_1, x_i, t_i, h, t_f)\n",
        "#   # my_sol2_x, my_sol2_t = euler_method(solution_function, x_i, t_i, h, t_f)\n",
        "#   y = solution_function(x_i, t_i)\n",
        "\n",
        "#   # Round for conciseness\n",
        "#   # my_sol_x_r = [round(x, 3) for x in my_sol_x]\n",
        "#   # my_sol_t_r = [round(t, 3) for t in my_sol_t]\n",
        "\n",
        "#   # Print solutions\n",
        "#   # print(f'x_sol for h = {h}: ', my_x_sol_r)\n",
        "#   # print(f't_sol for h = {h}: ', my_t_sol_r)\n",
        "\n",
        "#   plt.plot(my_sol_t, my_sol_x, label = 'ODE')\n",
        "#   plt.plot(my_sol2_x, y, label = 'Solution')\n",
        "#   plt.xlabel('t')\n",
        "#   plt.ylabel('x')\n",
        "#   plt.title(f'h = {h}')\n",
        "#   plt.legend()\n",
        "#   plt.show()\n",
        "\n",
        "# Plot these points and fit a function to it\n",
        "\n",
        "h=0.05\n",
        "my_sol_x, my_sol_t = euler_method(my_ode_1, x_i, t_i, h, t_f)\n",
        "# each y is the solution to x_i and each time?\n",
        "y_array = []\n",
        "for t in my_sol_t:\n",
        "  y = solution_function(x_i, t)\n",
        "  y_array.append(y)\n",
        "\n",
        "plt.plot(my_sol_t, my_sol_x, label = 'ODE')\n",
        "plt.plot(my_sol_t, y_array, label = 'Solution')\n",
        "plt.xlabel('t')\n",
        "plt.ylabel('x')\n",
        "plt.title(f'h = {h}')\n",
        "plt.legend()\n",
        "plt.show()\n",
        "\n",
        "\n"
      ],
      "metadata": {
        "id": "gR8MqlrSwQ-3",
        "outputId": "7e24be0e-6671-4846-beb8-0dd0f4e3dcc6",
        "colab": {
          "base_uri": "https://localhost:8080/",
          "height": 472
        }
      },
      "execution_count": 14,
      "outputs": [
        {
          "output_type": "display_data",
          "data": {
            "text/plain": [
              "<Figure size 640x480 with 1 Axes>"
            ],
            "image/png": "[encoded data removed]"
          },
          "metadata": {}
        }
      ]
    },
    {
      "cell_type": "markdown",
      "source": [
        "## Solving a system of ODEs\n",
        "\n",
        "Several ODEs can be combined into a system of equations, and if they all share the same independent variable (e.g. time) they can be solved together.\n",
        "\n",
        "Let's look at an example of a ODE system:\n",
        "\n",
        "$$\n",
        "\\frac{dx}{dt} = x - xy \\\\\n",
        "\\frac{dy}{dt} = -y + xy\n",
        "$$\n",
        "\n",
        "This system gives us the rate of change for the variables $x$ and $y$, with respect to time, for any value of $x$ and $y$. This was one of the earlies models of an ecosystem, know as the [Lotka–Volterra model](https://en.wikipedia.org/wiki/Lotka%E2%80%93Volterra_equations).\n",
        "\n",
        "To see how this can also be solved using the Euler method, let's write this system as a python function:\n"
      ],
      "metadata": {
        "id": "4nRxbSRIwe2M"
      }
    },
    {
      "cell_type": "code",
      "source": [
        "def lotka_volterra(t,x):\n",
        "  a = x[0] - x[0] * x[1]\n",
        "  b = -x[1] + x[0]*x[1]\n",
        "  return [a,b]\n",
        "\n",
        "lotka_volterra(0,[10,10])"
      ],
      "metadata": {
        "colab": {
          "base_uri": "https://localhost:8080/"
        },
        "id": "UmmZvtKwCe3n",
        "outputId": "32ab623e-ace3-4cfb-9069-100b8ef2f1bb"
      },
      "execution_count": null,
      "outputs": [
        {
          "output_type": "execute_result",
          "data": {
            "text/plain": [
              "[0, 90]"
            ]
          },
          "metadata": {},
          "execution_count": 4
        }
      ]
    },
    {
      "cell_type": "markdown",
      "source": [
        "### Exercise\n",
        "1. Expand your Euler method so that it is able to handle two variables as inputs.\n",
        "2. Use your expanded method to solve the system define above. Use $(x=5,y=5,t=0)$ as the initial point, and $t=20$ as the end point. Choose a small enough value of $h$.\n",
        "3. Plot your results. What do you see?"
      ],
      "metadata": {
        "id": "ZpqqoodxGd0w"
      }
    },
    {
      "cell_type": "markdown",
      "source": [
        "## More complex solvers\n",
        "\n",
        "There exist many other ways to solve ODEs numerically, which provide better approximations for the exact solution. Here, we will not explain or implement them, rather we will learn to use Scipy's own implementations.\n",
        "\n",
        "The relevant Scipy function is ``scipy.integrate.solve_ivp``. IVP stands for Inintial Value Problem, a class of ODEs that are solved by providing it with an initial point.\n",
        "\n",
        "Here is how this function is called:\n",
        "\n",
        "```python\n",
        "sol = sp.integrate.solve_ivp(fun, t_span, y0)\n",
        "```\n",
        "* **fun** is the ODE or ODE system as defined above.\n",
        "* **t_span** is the time span where the equation will be solved, it includes both the initial time and final time as folows: ``[t_ini, t_final]``\n",
        "* **y0** is the initial value of the dependent variables.\n",
        "\n",
        "Onece this is run, you will get back a solution object. The most important variables on this object are t and y, which will similarly give you the poits to reconstruct the function. An example on how to access them:\n",
        "\n",
        "```python\n",
        "sol = sp.integrate.solve_ivp(fun, t_span, y0)\n",
        "y = sol.y\n",
        "t = sol.t\n",
        "```\n",
        "\n",
        "You might have noticed that you do not need to provide a value of $h$, or any parameter that controls precision. That's because the algorithm will try to calculate the best $h$ that will give you the best compromise between precision and computation time. If you are not satisfied with the resolution provided by this choice, you can use the **t_eval** parameter, providing it with a list of all time points where the solution is evaluated (can be created using numpy's *linspace* function).\n",
        "\n"
      ],
      "metadata": {
        "id": "hCpw-ta4IfVD"
      }
    },
    {
      "cell_type": "markdown",
      "source": [
        "### Exercise\n",
        "\n",
        "1. Use Scipy's solver to again find the solution to the following ODE, and compare it to the previous solution using the Euler method.\n",
        "$$\n",
        "\\frac{dx}{dt} = x\\left(1-\\frac{x}{10}\\right)\n",
        "$$\n",
        "\n",
        "2. Use the Scipy solver to find the solution to the Lotka-Volterra method above, and adjust the **t_eval** input until you are satisfied with the resolution of your solution.\n",
        "\n",
        "3. Now, make a plot of the solution with $x$ in the horizontal axis, and $y$ on the vertical axis.\n",
        "  * In the same plot, add the solution for the following initial conditions: $(10,10)$, $(3,3)$ and $(1,1)$."
      ],
      "metadata": {
        "id": "dSktLbbdXV5j"
      }
    },
    {
      "cell_type": "code",
      "source": [],
      "metadata": {
        "id": "AU8He4SGLAoJ"
      },
      "execution_count": null,
      "outputs": []
    }
  ]
}