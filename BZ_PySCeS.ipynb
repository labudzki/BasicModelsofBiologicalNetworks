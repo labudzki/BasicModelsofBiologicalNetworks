{
  "nbformat": 4,
  "nbformat_minor": 0,
  "metadata": {
    "colab": {
      "provenance": [],
      "include_colab_link": true
    },
    "kernelspec": {
      "name": "python3",
      "display_name": "Python 3"
    },
    "language_info": {
      "name": "python"
    }
  },
  "cells": [
    {
      "cell_type": "markdown",
      "metadata": {
        "id": "view-in-github",
        "colab_type": "text"
      },
      "source": [
        "<a href=\"https://colab.research.google.com/github/labudzki/BasicModelsofBiologicalNetworks/blob/main/BZ_PySCeS.ipynb\" target=\"_parent\"><img src=\"https://colab.research.google.com/assets/colab-badge.svg\" alt=\"Open In Colab\"/></a>"
      ]
    },
    {
      "cell_type": "code",
      "execution_count": null,
      "metadata": {
        "colab": {
          "base_uri": "https://localhost:8080/"
        },
        "id": "X9Y-p9y4ZJl7",
        "outputId": "8bc330d7-e866-4c8d-8b3d-8b65f7253474"
      },
      "outputs": [
        {
          "output_type": "stream",
          "name": "stdout",
          "text": [
            "Collecting pysces\n",
            "  Downloading pysces-1.2.2-cp311-cp311-manylinux_2_17_x86_64.manylinux2014_x86_64.whl.metadata (2.9 kB)\n",
            "Requirement already satisfied: numpy>=1.23.5 in /usr/local/lib/python3.11/dist-packages (from pysces) (1.26.4)\n",
            "Requirement already satisfied: matplotlib in /usr/local/lib/python3.11/dist-packages (from pysces) (3.10.0)\n",
            "Requirement already satisfied: scipy in /usr/local/lib/python3.11/dist-packages (from pysces) (1.13.1)\n",
            "Requirement already satisfied: contourpy>=1.0.1 in /usr/local/lib/python3.11/dist-packages (from matplotlib->pysces) (1.3.1)\n",
            "Requirement already satisfied: cycler>=0.10 in /usr/local/lib/python3.11/dist-packages (from matplotlib->pysces) (0.12.1)\n",
            "Requirement already satisfied: fonttools>=4.22.0 in /usr/local/lib/python3.11/dist-packages (from matplotlib->pysces) (4.56.0)\n",
            "Requirement already satisfied: kiwisolver>=1.3.1 in /usr/local/lib/python3.11/dist-packages (from matplotlib->pysces) (1.4.8)\n",
            "Requirement already satisfied: packaging>=20.0 in /usr/local/lib/python3.11/dist-packages (from matplotlib->pysces) (24.2)\n",
            "Requirement already satisfied: pillow>=8 in /usr/local/lib/python3.11/dist-packages (from matplotlib->pysces) (11.1.0)\n",
            "Requirement already satisfied: pyparsing>=2.3.1 in /usr/local/lib/python3.11/dist-packages (from matplotlib->pysces) (3.2.1)\n",
            "Requirement already satisfied: python-dateutil>=2.7 in /usr/local/lib/python3.11/dist-packages (from matplotlib->pysces) (2.8.2)\n",
            "Requirement already satisfied: six>=1.5 in /usr/local/lib/python3.11/dist-packages (from python-dateutil>=2.7->matplotlib->pysces) (1.17.0)\n",
            "Downloading pysces-1.2.2-cp311-cp311-manylinux_2_17_x86_64.manylinux2014_x86_64.whl (2.0 MB)\n",
            "\u001b[2K   \u001b[90m━━━━━━━━━━━━━━━━━━━━━━━━━━━━━━━━━━━━━━━━\u001b[0m \u001b[32m2.0/2.0 MB\u001b[0m \u001b[31m16.9 MB/s\u001b[0m eta \u001b[36m0:00:00\u001b[0m\n",
            "\u001b[?25hInstalling collected packages: pysces\n",
            "Successfully installed pysces-1.2.2\n"
          ]
        }
      ],
      "source": [
        "!pip install pysces"
      ]
    },
    {
      "cell_type": "code",
      "source": [
        "import pysces"
      ],
      "metadata": {
        "colab": {
          "base_uri": "https://localhost:8080/"
        },
        "id": "7R4eKIxLZXiT",
        "outputId": "5e1054a0-cabe-4378-bf42-51c80dcc2f24"
      },
      "execution_count": null,
      "outputs": [
        {
          "output_type": "stream",
          "name": "stdout",
          "text": [
            "Cannot load backend 'TkAgg' which requires the 'tk' interactive framework, as 'headless' is currently running\n",
            "\n",
            "PySCeS defaults to matplotlib's TKagg backend if not specified                          in the user configuration file, set \"matplotlib_backend = <backend>\" \n",
            "Matplotlib interface loaded (pysces.plt.m)\n",
            "Pitcon routines available\n",
            "NLEQ2 routines available\n",
            "INFO: libSBML not installed, SBML support not available.\n",
            "You are using NumPy (1.26.4) with SciPy (1.13.1)\n",
            "RateChar is available\n",
            "INFO: Parallel scanner not available\n",
            "\n",
            "PySCeS environment\n",
            "******************\n",
            "pysces.model_dir = /root/Pysces/psc\n",
            "pysces.output_dir = /root/Pysces\n",
            "\n",
            "\n",
            "***********************************************************************\n",
            "* Welcome to PySCeS (1.2.2) - Python Simulator for Cellular Systems   *\n",
            "*                http://pysces.sourceforge.net                        *\n",
            "* Copyright(C) B.G. Olivier, J.M. Rohwer, J.-H.S. Hofmeyr, 2004-2024  *\n",
            "* Triple-J Group for Molecular Cell Physiology                        *\n",
            "* Stellenbosch University, ZA and VU University Amsterdam, NL         *\n",
            "* PySCeS is distributed under the PySCeS (BSD style) licence, see     *\n",
            "* LICENCE.txt (supplied with this release) for details                *\n",
            "* Please cite PySCeS with: doi:10.1093/bioinformatics/bti046          *\n",
            "***********************************************************************\n"
          ]
        }
      ]
    },
    {
      "cell_type": "markdown",
      "source": [
        "\n",
        "$$\n",
        "BrO_3^- + Br^-  \\xrightarrow{1}  HBrO_2 + HOBr\\\\\n",
        "HBrO_2 + Br^-  \\xrightarrow{2}  2HOBr\n",
        "$$\n",
        "\n",
        "\n",
        "$$\n",
        "BrO_3^- + HBrO_2 \\xrightarrow{3} 2HBrO_2 + 2Ce^{4+} \\\\\n",
        "2HBrO_2 \\xrightarrow{4} BrO_3^- + HOBr \\\\\n",
        "CH_2(COOH)_2 + Ce^{4+} \\xrightarrow{5} \\frac{1}{2} fBr^-\n",
        "$$\n"
      ],
      "metadata": {
        "id": "tr56iSy3ZlRI"
      }
    },
    {
      "cell_type": "code",
      "source": [
        "model_description = '''\n",
        "\n",
        "# fix concentrations\n",
        "FIX: bro3 ch2cooh2 hobr\n",
        "\n",
        "#reactions\n",
        "r1:\n",
        "bro3 + br > hbro2 + hobr\n",
        "bro3 * br * k1\n",
        "\n",
        "r2:\n",
        "hbro2 + br > {2}hobr\n",
        "hbro2 * br * k2\n",
        "\n",
        "r3:\n",
        "bro3 + hbro2 > {2}hbro2 + {2}ce\n",
        "bro3 * hbro2 * k3\n",
        "\n",
        "r4:\n",
        "{2}hbro2 > bro3 + hobr\n",
        "(hbro2**2) * k4\n",
        "\n",
        "r5:\n",
        "ch2cooh2 + ce >  {0.5}br\n",
        "ch2cooh2 * ce * k5\n",
        "\n",
        "#parameters\n",
        "k1 = 5.64\n",
        "k2 = 3e6\n",
        "k3 = 80\n",
        "k4 = 5e3\n",
        "k5 = 1.6\n",
        "\n",
        "#initital values\n",
        "bro3 = 1\n",
        "br = 1\n",
        "hbro2 = 1\n",
        "hobr = 1\n",
        "ce = 1\n",
        "ch2cooh2 = 1\n",
        "\n",
        "'''"
      ],
      "metadata": {
        "id": "6R-QthLYkuEu"
      },
      "execution_count": null,
      "outputs": []
    },
    {
      "cell_type": "code",
      "source": [
        "model = pysces.model('my_model', loader='string', fString=model_description)"
      ],
      "metadata": {
        "colab": {
          "base_uri": "https://localhost:8080/"
        },
        "id": "B-Wmb2AvckhD",
        "outputId": "ebecabe3-6a61-4432-a304-4acf8d693f81"
      },
      "execution_count": null,
      "outputs": [
        {
          "output_type": "stream",
          "name": "stdout",
          "text": [
            "Assuming extension is .psc\n",
            "Using model directory: /root/Pysces/psc\n",
            "Using file: my_model.psc\n",
            "/root/Pysces/psc/orca/my_model.psc loading ..... \n",
            "Parsing file: /root/Pysces/psc/orca/my_model.psc\n",
            "Info: \"hobr\" has been initialised but does not occur in a rate equation\n",
            " \n",
            "Calculating L matrix . . . . . . .  done.\n",
            "Calculating K matrix . . . . . . .  done.\n",
            " \n"
          ]
        }
      ]
    },
    {
      "cell_type": "code",
      "source": [
        "model.doSim(end=20, points = 1000)"
      ],
      "metadata": {
        "colab": {
          "base_uri": "https://localhost:8080/"
        },
        "id": "TUB3hJvhdOWW",
        "outputId": "8b7a8c38-9c25-49f3-e12d-e6fa87aa7790"
      },
      "execution_count": null,
      "outputs": [
        {
          "output_type": "stream",
          "name": "stdout",
          "text": [
            "LSODA time for 1000 points: 0.09220385551452637\n"
          ]
        },
        {
          "output_type": "stream",
          "name": "stderr",
          "text": [
            "/usr/local/lib/python3.11/dist-packages/pysces/PyscesModel.py:4058: ODEintWarning: Integration successful.\n",
            "  sim_res, infodict = scipy.integrate.odeint(\n"
          ]
        }
      ]
    },
    {
      "cell_type": "code",
      "source": [
        "model.SimPlot()"
      ],
      "metadata": {
        "id": "mlp-mYpWe92B"
      },
      "execution_count": null,
      "outputs": []
    }
  ]
}